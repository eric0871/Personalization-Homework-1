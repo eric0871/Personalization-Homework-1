{
 "cells": [
  {
   "cell_type": "markdown",
   "metadata": {},
   "source": [
    "# Personalization Homework 1 by Yuan Cheng"
   ]
  },
  {
   "cell_type": "markdown",
   "metadata": {},
   "source": [
    "Import Libraries"
   ]
  },
  {
   "cell_type": "code",
   "execution_count": 4,
   "metadata": {},
   "outputs": [],
   "source": [
    "import pandas as pd\n",
    "import numpy as np\n",
    "from sklearn.model_selection import train_test_split\n",
    "from scipy.optimize import minimize"
   ]
  },
  {
   "cell_type": "markdown",
   "metadata": {},
   "source": [
    "Setup"
   ]
  },
  {
   "cell_type": "code",
   "execution_count": 5,
   "metadata": {},
   "outputs": [
    {
     "data": {
      "text/html": [
       "<div>\n",
       "<style scoped>\n",
       "    .dataframe tbody tr th:only-of-type {\n",
       "        vertical-align: middle;\n",
       "    }\n",
       "\n",
       "    .dataframe tbody tr th {\n",
       "        vertical-align: top;\n",
       "    }\n",
       "\n",
       "    .dataframe thead th {\n",
       "        text-align: right;\n",
       "    }\n",
       "</style>\n",
       "<table border=\"1\" class=\"dataframe\">\n",
       "  <thead>\n",
       "    <tr style=\"text-align: right;\">\n",
       "      <th></th>\n",
       "      <th>fixed acidity</th>\n",
       "      <th>volatile acidity</th>\n",
       "      <th>citric acid</th>\n",
       "      <th>residual sugar</th>\n",
       "      <th>chlorides</th>\n",
       "      <th>free sulfur dioxide</th>\n",
       "      <th>total sulfur dioxide</th>\n",
       "      <th>density</th>\n",
       "      <th>pH</th>\n",
       "      <th>sulphates</th>\n",
       "      <th>alcohol</th>\n",
       "      <th>quality</th>\n",
       "    </tr>\n",
       "  </thead>\n",
       "  <tbody>\n",
       "    <tr>\n",
       "      <td>0</td>\n",
       "      <td>7.4</td>\n",
       "      <td>0.70</td>\n",
       "      <td>0.00</td>\n",
       "      <td>1.9</td>\n",
       "      <td>0.076</td>\n",
       "      <td>11.0</td>\n",
       "      <td>34.0</td>\n",
       "      <td>0.9978</td>\n",
       "      <td>3.51</td>\n",
       "      <td>0.56</td>\n",
       "      <td>9.4</td>\n",
       "      <td>5</td>\n",
       "    </tr>\n",
       "    <tr>\n",
       "      <td>1</td>\n",
       "      <td>7.8</td>\n",
       "      <td>0.88</td>\n",
       "      <td>0.00</td>\n",
       "      <td>2.6</td>\n",
       "      <td>0.098</td>\n",
       "      <td>25.0</td>\n",
       "      <td>67.0</td>\n",
       "      <td>0.9968</td>\n",
       "      <td>3.20</td>\n",
       "      <td>0.68</td>\n",
       "      <td>9.8</td>\n",
       "      <td>5</td>\n",
       "    </tr>\n",
       "    <tr>\n",
       "      <td>2</td>\n",
       "      <td>7.8</td>\n",
       "      <td>0.76</td>\n",
       "      <td>0.04</td>\n",
       "      <td>2.3</td>\n",
       "      <td>0.092</td>\n",
       "      <td>15.0</td>\n",
       "      <td>54.0</td>\n",
       "      <td>0.9970</td>\n",
       "      <td>3.26</td>\n",
       "      <td>0.65</td>\n",
       "      <td>9.8</td>\n",
       "      <td>5</td>\n",
       "    </tr>\n",
       "    <tr>\n",
       "      <td>3</td>\n",
       "      <td>11.2</td>\n",
       "      <td>0.28</td>\n",
       "      <td>0.56</td>\n",
       "      <td>1.9</td>\n",
       "      <td>0.075</td>\n",
       "      <td>17.0</td>\n",
       "      <td>60.0</td>\n",
       "      <td>0.9980</td>\n",
       "      <td>3.16</td>\n",
       "      <td>0.58</td>\n",
       "      <td>9.8</td>\n",
       "      <td>6</td>\n",
       "    </tr>\n",
       "    <tr>\n",
       "      <td>4</td>\n",
       "      <td>7.4</td>\n",
       "      <td>0.70</td>\n",
       "      <td>0.00</td>\n",
       "      <td>1.9</td>\n",
       "      <td>0.076</td>\n",
       "      <td>11.0</td>\n",
       "      <td>34.0</td>\n",
       "      <td>0.9978</td>\n",
       "      <td>3.51</td>\n",
       "      <td>0.56</td>\n",
       "      <td>9.4</td>\n",
       "      <td>5</td>\n",
       "    </tr>\n",
       "  </tbody>\n",
       "</table>\n",
       "</div>"
      ],
      "text/plain": [
       "   fixed acidity  volatile acidity  citric acid  residual sugar  chlorides  \\\n",
       "0            7.4              0.70         0.00             1.9      0.076   \n",
       "1            7.8              0.88         0.00             2.6      0.098   \n",
       "2            7.8              0.76         0.04             2.3      0.092   \n",
       "3           11.2              0.28         0.56             1.9      0.075   \n",
       "4            7.4              0.70         0.00             1.9      0.076   \n",
       "\n",
       "   free sulfur dioxide  total sulfur dioxide  density    pH  sulphates  \\\n",
       "0                 11.0                  34.0   0.9978  3.51       0.56   \n",
       "1                 25.0                  67.0   0.9968  3.20       0.68   \n",
       "2                 15.0                  54.0   0.9970  3.26       0.65   \n",
       "3                 17.0                  60.0   0.9980  3.16       0.58   \n",
       "4                 11.0                  34.0   0.9978  3.51       0.56   \n",
       "\n",
       "   alcohol  quality  \n",
       "0      9.4        5  \n",
       "1      9.8        5  \n",
       "2      9.8        5  \n",
       "3      9.8        6  \n",
       "4      9.4        5  "
      ]
     },
     "execution_count": 5,
     "metadata": {},
     "output_type": "execute_result"
    }
   ],
   "source": [
    "df = pd.read_csv(\"winequality-red.csv\", sep = \";\")\n",
    "\n",
    "df.head()"
   ]
  },
  {
   "cell_type": "code",
   "execution_count": 6,
   "metadata": {},
   "outputs": [],
   "source": [
    "y = df.pop(\"quality\")\n",
    "X = df\n",
    "X_train,X_test,y_train,y_test = train_test_split(X,y,test_size=0.2)"
   ]
  },
  {
   "cell_type": "markdown",
   "metadata": {},
   "source": [
    "Linear Model Equation"
   ]
  },
  {
   "cell_type": "code",
   "execution_count": 45,
   "metadata": {},
   "outputs": [],
   "source": [
    "def linear_regression(X, beta):\n",
    "    predictions = list()\n",
    "    for i in range(len(X)):\n",
    "        y_hat = sum(x * y for x, y in zip(df.loc[i],beta))\n",
    "        predictions.append(y_hat)\n",
    "    return predictions"
   ]
  },
  {
   "cell_type": "markdown",
   "metadata": {},
   "source": [
    "RSS Equation"
   ]
  },
  {
   "cell_type": "code",
   "execution_count": 46,
   "metadata": {},
   "outputs": [],
   "source": [
    "def RSS(beta,X,y):\n",
    "    y_hat = linear_regression(X, beta)\n",
    "    return np.sum((np.array(y)-np.array(y_hat))**2).astype(float).item()"
   ]
  },
  {
   "cell_type": "markdown",
   "metadata": {},
   "source": [
    "Optimizing the Model"
   ]
  },
  {
   "cell_type": "code",
   "execution_count": 13,
   "metadata": {},
   "outputs": [
    {
     "data": {
      "text/plain": [
       "array([-2.10680202e-02, -9.63407572e-02,  8.42118094e-04,  1.48925666e-03,\n",
       "        2.10796400e-02,  5.78577211e-03, -1.20885060e-03,  6.35773146e+00,\n",
       "       -1.32037297e-01, -7.74407841e-02, -2.51188085e-03])"
      ]
     },
     "execution_count": 13,
     "metadata": {},
     "output_type": "execute_result"
    }
   ],
   "source": [
    "beta0 = np.random.normal(0,1,X_train.shape[1])\n",
    "res = minimize(fun=RSS, x0=beta0, args=(X_train, y_train))\n",
    "beta_hat = res.x\n",
    "beta_hat"
   ]
  },
  {
   "cell_type": "markdown",
   "metadata": {},
   "source": [
    "The quatitative results from my model is the array above. The feature that seems the most important is the eighth feature which is density because it has the highest beta_hat. The magnitude of the features do have a significant impact on the results. The feautres that has high magnitude, fixed acidity, free sulfur dioxide, total sulfur dioxide, alcohol, etc, all have a significantly lower beta_hat."
   ]
  },
  {
   "cell_type": "code",
   "execution_count": 14,
   "metadata": {},
   "outputs": [
    {
     "data": {
      "text/plain": [
       "847.5991662131569"
      ]
     },
     "execution_count": 14,
     "metadata": {},
     "output_type": "execute_result"
    }
   ],
   "source": [
    "train_data_fit = RSS(beta_hat,X_train,y_train)\n",
    "train_data_fit"
   ]
  },
  {
   "cell_type": "code",
   "execution_count": 15,
   "metadata": {},
   "outputs": [
    {
     "data": {
      "text/plain": [
       "189.78413868232155"
      ]
     },
     "execution_count": 15,
     "metadata": {},
     "output_type": "execute_result"
    }
   ],
   "source": [
    "test_data_fit = RSS(beta_hat,X_test,y_test)\n",
    "test_data_fit"
   ]
  },
  {
   "cell_type": "markdown",
   "metadata": {},
   "source": [
    "The goodness of fit on the test data is 189.78."
   ]
  },
  {
   "cell_type": "markdown",
   "metadata": {},
   "source": [
    "Try different initial beta values:"
   ]
  },
  {
   "cell_type": "code",
   "execution_count": 16,
   "metadata": {},
   "outputs": [
    {
     "data": {
      "text/plain": [
       "array([-2.10682457e-02, -9.63404025e-02,  8.42211329e-04,  1.48925174e-03,\n",
       "        2.10807926e-02,  5.78577603e-03, -1.20886216e-03,  6.35774290e+00,\n",
       "       -1.32040338e-01, -7.74405918e-02, -2.51186148e-03])"
      ]
     },
     "execution_count": 16,
     "metadata": {},
     "output_type": "execute_result"
    }
   ],
   "source": [
    "beta0 = np.random.normal(20,5,X_train.shape[1])\n",
    "res = minimize(fun=RSS, x0=beta0, args=(X_train, y_train))\n",
    "beta_hat = res.x\n",
    "beta_hat"
   ]
  },
  {
   "cell_type": "code",
   "execution_count": 17,
   "metadata": {},
   "outputs": [
    {
     "data": {
      "text/plain": [
       "189.7841846335582"
      ]
     },
     "execution_count": 17,
     "metadata": {},
     "output_type": "execute_result"
    }
   ],
   "source": [
    "test_data_fit = RSS(beta_hat,X_test,y_test)\n",
    "test_data_fit"
   ]
  },
  {
   "cell_type": "code",
   "execution_count": 18,
   "metadata": {},
   "outputs": [
    {
     "data": {
      "text/plain": [
       "array([-2.10681523e-02, -9.63404111e-02,  8.42127304e-04,  1.48925120e-03,\n",
       "        2.10806074e-02,  5.78577295e-03, -1.20886043e-03,  6.35773770e+00,\n",
       "       -1.32039083e-01, -7.74403515e-02, -2.51185283e-03])"
      ]
     },
     "execution_count": 18,
     "metadata": {},
     "output_type": "execute_result"
    }
   ],
   "source": [
    "beta0 = np.random.normal(1000,90,X_train.shape[1])\n",
    "res = minimize(fun=RSS, x0=beta0, args=(X_train, y_train))\n",
    "beta_hat = res.x\n",
    "beta_hat"
   ]
  },
  {
   "cell_type": "code",
   "execution_count": 19,
   "metadata": {},
   "outputs": [
    {
     "data": {
      "text/plain": [
       "189.78417549215368"
      ]
     },
     "execution_count": 19,
     "metadata": {},
     "output_type": "execute_result"
    }
   ],
   "source": [
    "test_data_fit = RSS(beta_hat,X_test,y_test)\n",
    "test_data_fit"
   ]
  },
  {
   "cell_type": "code",
   "execution_count": 20,
   "metadata": {},
   "outputs": [
    {
     "data": {
      "text/plain": [
       "array([-2.10682085e-02, -9.63403624e-02,  8.42265383e-04,  1.48924969e-03,\n",
       "        2.10819371e-02,  5.78577528e-03, -1.20886154e-03,  6.35774046e+00,\n",
       "       -1.32039765e-01, -7.74406537e-02, -2.51185076e-03])"
      ]
     },
     "execution_count": 20,
     "metadata": {},
     "output_type": "execute_result"
    }
   ],
   "source": [
    "beta0 = np.random.normal(1,100,X_train.shape[1])\n",
    "res = minimize(fun=RSS, x0=beta0, args=(X_train, y_train))\n",
    "beta_hat = res.x\n",
    "beta_hat"
   ]
  },
  {
   "cell_type": "code",
   "execution_count": 21,
   "metadata": {},
   "outputs": [
    {
     "data": {
      "text/plain": [
       "189.7841850425548"
      ]
     },
     "execution_count": 21,
     "metadata": {},
     "output_type": "execute_result"
    }
   ],
   "source": [
    "test_data_fit = RSS(beta_hat,X_test,y_test)\n",
    "test_data_fit"
   ]
  },
  {
   "cell_type": "markdown",
   "metadata": {},
   "source": [
    "According to the results above, no matter how you change the initial values of beta, the end result and RSS always stay the same."
   ]
  },
  {
   "cell_type": "markdown",
   "metadata": {},
   "source": [
    "Try different solvers:"
   ]
  },
  {
   "cell_type": "code",
   "execution_count": 22,
   "metadata": {},
   "outputs": [
    {
     "data": {
      "text/plain": [
       "array([-8.28548939e-02, -1.99602478e+00, -1.57280353e+00, -1.53050984e-02,\n",
       "       -3.56051306e+00,  1.81040054e-03,  1.23629748e-04,  1.59776906e+01,\n",
       "       -2.34905680e+00, -2.79287676e-01,  1.57954978e-02])"
      ]
     },
     "execution_count": 22,
     "metadata": {},
     "output_type": "execute_result"
    }
   ],
   "source": [
    "beta0 = np.random.normal(0,1,X_train.shape[1])\n",
    "res = minimize(fun=RSS, x0=beta0, args=(X_train, y_train), method = \"Nelder-Mead\")\n",
    "beta_hat = res.x\n",
    "beta_hat"
   ]
  },
  {
   "cell_type": "code",
   "execution_count": 23,
   "metadata": {},
   "outputs": [
    {
     "data": {
      "text/plain": [
       "237.6179310713567"
      ]
     },
     "execution_count": 23,
     "metadata": {},
     "output_type": "execute_result"
    }
   ],
   "source": [
    "test_data_fit = RSS(beta_hat,X_test,y_test)\n",
    "test_data_fit"
   ]
  },
  {
   "cell_type": "code",
   "execution_count": 24,
   "metadata": {},
   "outputs": [
    {
     "data": {
      "text/plain": [
       "array([ 6.09880708e-02, -1.70481934e-01,  9.85678170e-03,  5.34514612e-03,\n",
       "        9.11057847e-01,  2.99906294e-03,  1.48628481e-04,  1.22135749e+00,\n",
       "        1.22811315e+00, -3.10086404e-02, -1.96883604e-02])"
      ]
     },
     "execution_count": 24,
     "metadata": {},
     "output_type": "execute_result"
    }
   ],
   "source": [
    "beta0 = np.random.normal(0,1,X_train.shape[1])\n",
    "res = minimize(fun=RSS, x0=beta0, args=(X_train, y_train), method = \"Powell\")\n",
    "beta_hat = res.x\n",
    "beta_hat"
   ]
  },
  {
   "cell_type": "code",
   "execution_count": 25,
   "metadata": {},
   "outputs": [
    {
     "data": {
      "text/plain": [
       "187.96752907628104"
      ]
     },
     "execution_count": 25,
     "metadata": {},
     "output_type": "execute_result"
    }
   ],
   "source": [
    "test_data_fit = RSS(beta_hat,X_test,y_test)\n",
    "test_data_fit"
   ]
  },
  {
   "cell_type": "code",
   "execution_count": 26,
   "metadata": {},
   "outputs": [
    {
     "data": {
      "text/plain": [
       "array([-2.10681628e-02, -9.63405936e-02,  8.41965058e-04,  1.48925046e-03,\n",
       "        2.10828325e-02,  5.78577361e-03, -1.20886050e-03,  6.35773866e+00,\n",
       "       -1.32039350e-01, -7.74406487e-02, -2.51183767e-03])"
      ]
     },
     "execution_count": 26,
     "metadata": {},
     "output_type": "execute_result"
    }
   ],
   "source": [
    "beta0 = np.random.normal(0,1,X_train.shape[1])\n",
    "res = minimize(fun=RSS, x0=beta0, args=(X_train, y_train), method = \"BFGS\")\n",
    "beta_hat = res.x\n",
    "beta_hat"
   ]
  },
  {
   "cell_type": "code",
   "execution_count": 27,
   "metadata": {},
   "outputs": [
    {
     "data": {
      "text/plain": [
       "189.78418302262367"
      ]
     },
     "execution_count": 27,
     "metadata": {},
     "output_type": "execute_result"
    }
   ],
   "source": [
    "test_data_fit = RSS(beta_hat,X_test,y_test)\n",
    "test_data_fit"
   ]
  },
  {
   "cell_type": "code",
   "execution_count": 28,
   "metadata": {},
   "outputs": [
    {
     "data": {
      "text/plain": [
       "array([ 0.17987782, -0.59828997, -0.93879835,  0.00423484, -0.64246185,\n",
       "       -0.0033318 ,  0.00320332, -0.88697472,  1.57491826, -0.19115733,\n",
       "        0.04238404])"
      ]
     },
     "execution_count": 28,
     "metadata": {},
     "output_type": "execute_result"
    }
   ],
   "source": [
    "beta0 = np.random.normal(0,1,X_train.shape[1])\n",
    "res = minimize(fun=RSS, x0=beta0, args=(X_train, y_train), method = \"TNC\")\n",
    "beta_hat = res.x\n",
    "beta_hat"
   ]
  },
  {
   "cell_type": "code",
   "execution_count": 29,
   "metadata": {},
   "outputs": [
    {
     "data": {
      "text/plain": [
       "196.9638186323669"
      ]
     },
     "execution_count": 29,
     "metadata": {},
     "output_type": "execute_result"
    }
   ],
   "source": [
    "test_data_fit = RSS(beta_hat,X_test,y_test)\n",
    "test_data_fit"
   ]
  },
  {
   "cell_type": "markdown",
   "metadata": {},
   "source": [
    "Different solver methods do change the end result and RSS but not significantly. The density still is the most important feature and RSS are all around 189.\n",
    "\n"
   ]
  },
  {
   "cell_type": "markdown",
   "metadata": {},
   "source": [
    " "
   ]
  },
  {
   "cell_type": "markdown",
   "metadata": {},
   "source": [
    "\n",
    " \n",
    "  \n",
    "Regularizing the Model\n",
    "\n",
    "Ridge"
   ]
  },
  {
   "cell_type": "code",
   "execution_count": 40,
   "metadata": {},
   "outputs": [
    {
     "data": {
      "text/plain": [
       "array([-1.85004655e-02, -9.63530652e-02, -1.18526687e-03,  1.45496910e-03,\n",
       "        4.80377332e-02,  5.72134375e-03, -1.16297937e-03,  6.21393268e+00,\n",
       "       -9.82437934e-02, -7.61526120e-02, -1.93401817e-03])"
      ]
     },
     "execution_count": 40,
     "metadata": {},
     "output_type": "execute_result"
    }
   ],
   "source": [
    "def ridge(beta,X,y):\n",
    "    lam = 0.01\n",
    "    return RSS(beta,X,y)+lam*np.sum(beta**2)\n",
    "\n",
    "beta0 = np.random.normal(0,1,X_train.shape[1])\n",
    "res = minimize(fun=ridge, x0=beta0, args=(X_train, y_train))\n",
    "beta_hat = res.x\n",
    "beta_hat"
   ]
  },
  {
   "cell_type": "code",
   "execution_count": 41,
   "metadata": {},
   "outputs": [
    {
     "data": {
      "text/plain": [
       "848.0034743802443"
      ]
     },
     "execution_count": 41,
     "metadata": {},
     "output_type": "execute_result"
    }
   ],
   "source": [
    "train_data_fit = RSS(beta_hat,X_train,y_train)\n",
    "train_data_fit"
   ]
  },
  {
   "cell_type": "code",
   "execution_count": 42,
   "metadata": {},
   "outputs": [
    {
     "data": {
      "text/plain": [
       "190.02797816326438"
      ]
     },
     "execution_count": 42,
     "metadata": {},
     "output_type": "execute_result"
    }
   ],
   "source": [
    "test_data_fit = RSS(beta_hat,X_test,y_test)\n",
    "test_data_fit"
   ]
  },
  {
   "cell_type": "markdown",
   "metadata": {},
   "source": [
    "Both RSS on training and testing data increased by a tiny amount."
   ]
  },
  {
   "cell_type": "code",
   "execution_count": 43,
   "metadata": {},
   "outputs": [],
   "source": [
    "l = [0.001,0.01,0.1,1,2,5,10]\n",
    "RSS_list = []\n",
    "\n",
    "for i in l:\n",
    "    def ridge(beta,X,y):\n",
    "        return RSS(beta,X,y)+i*np.sum(beta**2)\n",
    "\n",
    "    beta0 = np.random.normal(0,1,X_train.shape[1])\n",
    "    res = minimize(fun=ridge, x0=beta0, args=(X_train, y_train))\n",
    "    beta_hat = res.x\n",
    "    \n",
    "    RSS_list.append(RSS(beta_hat,X_test,y_test))"
   ]
  },
  {
   "cell_type": "code",
   "execution_count": 44,
   "metadata": {},
   "outputs": [
    {
     "data": {
      "text/plain": [
       "[190.09838392763464,\n",
       " 190.02799222518425,\n",
       " 189.46743215114796,\n",
       " 188.3408692349949,\n",
       " 188.52362003736047,\n",
       " 189.31185718730688,\n",
       " 190.47349517026484]"
      ]
     },
     "execution_count": 44,
     "metadata": {},
     "output_type": "execute_result"
    }
   ],
   "source": [
    " RSS_list"
   ]
  },
  {
   "cell_type": "markdown",
   "metadata": {},
   "source": [
    "Among all of the lambda values I tried, the one that yields the lowest RSS is lambda = 1. RSS = 188.34. A little lower than the linear model RSS."
   ]
  },
  {
   "cell_type": "markdown",
   "metadata": {},
   "source": [
    " "
   ]
  },
  {
   "cell_type": "markdown",
   "metadata": {},
   "source": [
    "Lasso"
   ]
  },
  {
   "cell_type": "code",
   "execution_count": 48,
   "metadata": {},
   "outputs": [
    {
     "name": "stdout",
     "output_type": "stream",
     "text": [
      "Lambda = 0.01\n",
      "RSS = 189.77150106606288\n",
      "Lambda = 0.1\n",
      "RSS = 189.65874329055333\n",
      "Lambda = 1\n",
      "RSS = 189.13209631834172\n",
      "Lambda = 2\n",
      "RSS = 189.18537960900886\n"
     ]
    }
   ],
   "source": [
    "l = [0.01,0.1,1,2]\n",
    "RSS_list = []\n",
    "\n",
    "for i in l:\n",
    "    print(\"Lambda =\", i)\n",
    "    def lasso(beta,X,y):\n",
    "        return RSS(beta,X,y)+i*np.sum(np.absolute(beta))\n",
    "\n",
    "    beta0 = np.random.normal(0,1,X_train.shape[1])\n",
    "    res = minimize(fun=lasso, x0=beta0, args=(X_train, y_train))\n",
    "    beta_hat = res.x\n",
    "    \n",
    "    print(\"RSS =\", RSS(beta_hat,X_test,y_test))\n",
    "    \n",
    "    "
   ]
  },
  {
   "cell_type": "markdown",
   "metadata": {},
   "source": [
    "RSS is minimized when lambda = 1. This is same as ridge regularization. It is also a little bit lower than the original RSS."
   ]
  },
  {
   "cell_type": "markdown",
   "metadata": {},
   "source": [
    "I think the magnitude of the features will still affect the results with regularization but it will be diminished because regularization prevents we use some non-related features."
   ]
  },
  {
   "cell_type": "code",
   "execution_count": null,
   "metadata": {},
   "outputs": [],
   "source": []
  }
 ],
 "metadata": {
  "kernelspec": {
   "display_name": "Python 3",
   "language": "python",
   "name": "python3"
  },
  "language_info": {
   "codemirror_mode": {
    "name": "ipython",
    "version": 3
   },
   "file_extension": ".py",
   "mimetype": "text/x-python",
   "name": "python",
   "nbconvert_exporter": "python",
   "pygments_lexer": "ipython3",
   "version": "3.7.4"
  }
 },
 "nbformat": 4,
 "nbformat_minor": 2
}
